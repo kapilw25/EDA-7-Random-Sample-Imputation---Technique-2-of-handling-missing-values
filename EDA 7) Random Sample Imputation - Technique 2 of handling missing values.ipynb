{
 "cells": [
  {
   "cell_type": "markdown",
   "id": "994130eb",
   "metadata": {},
   "source": [
    "# Techniques of handling missing values\n",
    "\n",
    "##### 1) Mean / Median / Mode Imputation\n",
    "##### 2) Random Sample Imputation\n",
    "##### 3) Capturing Nan values with a New feature\n",
    "##### 4) End of Distribution Imputation\n",
    "##### 5) Arbitary Imputation\n",
    "##### 6) Frequent Categories Imputation"
   ]
  },
  {
   "cell_type": "markdown",
   "id": "63362f30",
   "metadata": {},
   "source": [
    "# 2) Random Sample Imputation\n",
    "##### AiM: replacing the NaN values with Random observation\n",
    "##### Applied for the data of type: Missing Completely at Random (MCAR)"
   ]
  },
  {
   "cell_type": "code",
   "execution_count": 20,
   "id": "ab5922da",
   "metadata": {},
   "outputs": [
    {
     "data": {
      "text/html": [
       "<div>\n",
       "<style scoped>\n",
       "    .dataframe tbody tr th:only-of-type {\n",
       "        vertical-align: middle;\n",
       "    }\n",
       "\n",
       "    .dataframe tbody tr th {\n",
       "        vertical-align: top;\n",
       "    }\n",
       "\n",
       "    .dataframe thead th {\n",
       "        text-align: right;\n",
       "    }\n",
       "</style>\n",
       "<table border=\"1\" class=\"dataframe\">\n",
       "  <thead>\n",
       "    <tr style=\"text-align: right;\">\n",
       "      <th></th>\n",
       "      <th>passenger_id</th>\n",
       "      <th>pclass</th>\n",
       "      <th>name</th>\n",
       "      <th>sex</th>\n",
       "      <th>age</th>\n",
       "      <th>sibsp</th>\n",
       "      <th>parch</th>\n",
       "      <th>ticket</th>\n",
       "      <th>fare</th>\n",
       "      <th>cabin</th>\n",
       "      <th>embarked</th>\n",
       "      <th>boat</th>\n",
       "      <th>body</th>\n",
       "      <th>home.dest</th>\n",
       "      <th>survived</th>\n",
       "    </tr>\n",
       "  </thead>\n",
       "  <tbody>\n",
       "    <tr>\n",
       "      <th>0</th>\n",
       "      <td>1216</td>\n",
       "      <td>3</td>\n",
       "      <td>Smyth, Miss. Julia</td>\n",
       "      <td>female</td>\n",
       "      <td>NaN</td>\n",
       "      <td>0</td>\n",
       "      <td>0</td>\n",
       "      <td>335432</td>\n",
       "      <td>7.7333</td>\n",
       "      <td>NaN</td>\n",
       "      <td>Q</td>\n",
       "      <td>13</td>\n",
       "      <td>NaN</td>\n",
       "      <td>NaN</td>\n",
       "      <td>1</td>\n",
       "    </tr>\n",
       "    <tr>\n",
       "      <th>1</th>\n",
       "      <td>699</td>\n",
       "      <td>3</td>\n",
       "      <td>Cacic, Mr. Luka</td>\n",
       "      <td>male</td>\n",
       "      <td>38.0</td>\n",
       "      <td>0</td>\n",
       "      <td>0</td>\n",
       "      <td>315089</td>\n",
       "      <td>8.6625</td>\n",
       "      <td>NaN</td>\n",
       "      <td>S</td>\n",
       "      <td>NaN</td>\n",
       "      <td>NaN</td>\n",
       "      <td>Croatia</td>\n",
       "      <td>0</td>\n",
       "    </tr>\n",
       "    <tr>\n",
       "      <th>2</th>\n",
       "      <td>1267</td>\n",
       "      <td>3</td>\n",
       "      <td>Van Impe, Mrs. Jean Baptiste (Rosalie Paula Go...</td>\n",
       "      <td>female</td>\n",
       "      <td>30.0</td>\n",
       "      <td>1</td>\n",
       "      <td>1</td>\n",
       "      <td>345773</td>\n",
       "      <td>24.1500</td>\n",
       "      <td>NaN</td>\n",
       "      <td>S</td>\n",
       "      <td>NaN</td>\n",
       "      <td>NaN</td>\n",
       "      <td>NaN</td>\n",
       "      <td>0</td>\n",
       "    </tr>\n",
       "    <tr>\n",
       "      <th>3</th>\n",
       "      <td>449</td>\n",
       "      <td>2</td>\n",
       "      <td>Hocking, Mrs. Elizabeth (Eliza Needs)</td>\n",
       "      <td>female</td>\n",
       "      <td>54.0</td>\n",
       "      <td>1</td>\n",
       "      <td>3</td>\n",
       "      <td>29105</td>\n",
       "      <td>23.0000</td>\n",
       "      <td>NaN</td>\n",
       "      <td>S</td>\n",
       "      <td>4</td>\n",
       "      <td>NaN</td>\n",
       "      <td>Cornwall / Akron, OH</td>\n",
       "      <td>1</td>\n",
       "    </tr>\n",
       "    <tr>\n",
       "      <th>4</th>\n",
       "      <td>576</td>\n",
       "      <td>2</td>\n",
       "      <td>Veal, Mr. James</td>\n",
       "      <td>male</td>\n",
       "      <td>40.0</td>\n",
       "      <td>0</td>\n",
       "      <td>0</td>\n",
       "      <td>28221</td>\n",
       "      <td>13.0000</td>\n",
       "      <td>NaN</td>\n",
       "      <td>S</td>\n",
       "      <td>NaN</td>\n",
       "      <td>NaN</td>\n",
       "      <td>Barre, Co Washington, VT</td>\n",
       "      <td>0</td>\n",
       "    </tr>\n",
       "    <tr>\n",
       "      <th>...</th>\n",
       "      <td>...</td>\n",
       "      <td>...</td>\n",
       "      <td>...</td>\n",
       "      <td>...</td>\n",
       "      <td>...</td>\n",
       "      <td>...</td>\n",
       "      <td>...</td>\n",
       "      <td>...</td>\n",
       "      <td>...</td>\n",
       "      <td>...</td>\n",
       "      <td>...</td>\n",
       "      <td>...</td>\n",
       "      <td>...</td>\n",
       "      <td>...</td>\n",
       "      <td>...</td>\n",
       "    </tr>\n",
       "    <tr>\n",
       "      <th>845</th>\n",
       "      <td>158</td>\n",
       "      <td>1</td>\n",
       "      <td>Hipkins, Mr. William Edward</td>\n",
       "      <td>male</td>\n",
       "      <td>55.0</td>\n",
       "      <td>0</td>\n",
       "      <td>0</td>\n",
       "      <td>680</td>\n",
       "      <td>50.0000</td>\n",
       "      <td>C39</td>\n",
       "      <td>S</td>\n",
       "      <td>NaN</td>\n",
       "      <td>NaN</td>\n",
       "      <td>London / Birmingham</td>\n",
       "      <td>0</td>\n",
       "    </tr>\n",
       "    <tr>\n",
       "      <th>846</th>\n",
       "      <td>174</td>\n",
       "      <td>1</td>\n",
       "      <td>Kent, Mr. Edward Austin</td>\n",
       "      <td>male</td>\n",
       "      <td>58.0</td>\n",
       "      <td>0</td>\n",
       "      <td>0</td>\n",
       "      <td>11771</td>\n",
       "      <td>29.7000</td>\n",
       "      <td>B37</td>\n",
       "      <td>C</td>\n",
       "      <td>NaN</td>\n",
       "      <td>258.0</td>\n",
       "      <td>Buffalo, NY</td>\n",
       "      <td>0</td>\n",
       "    </tr>\n",
       "    <tr>\n",
       "      <th>847</th>\n",
       "      <td>467</td>\n",
       "      <td>2</td>\n",
       "      <td>Kantor, Mrs. Sinai (Miriam Sternin)</td>\n",
       "      <td>female</td>\n",
       "      <td>24.0</td>\n",
       "      <td>1</td>\n",
       "      <td>0</td>\n",
       "      <td>244367</td>\n",
       "      <td>26.0000</td>\n",
       "      <td>NaN</td>\n",
       "      <td>S</td>\n",
       "      <td>12</td>\n",
       "      <td>NaN</td>\n",
       "      <td>Moscow / Bronx, NY</td>\n",
       "      <td>1</td>\n",
       "    </tr>\n",
       "    <tr>\n",
       "      <th>848</th>\n",
       "      <td>1112</td>\n",
       "      <td>3</td>\n",
       "      <td>Peacock, Miss. Treasteall</td>\n",
       "      <td>female</td>\n",
       "      <td>3.0</td>\n",
       "      <td>1</td>\n",
       "      <td>1</td>\n",
       "      <td>SOTON/O.Q. 3101315</td>\n",
       "      <td>13.7750</td>\n",
       "      <td>NaN</td>\n",
       "      <td>S</td>\n",
       "      <td>NaN</td>\n",
       "      <td>NaN</td>\n",
       "      <td>NaN</td>\n",
       "      <td>0</td>\n",
       "    </tr>\n",
       "    <tr>\n",
       "      <th>849</th>\n",
       "      <td>425</td>\n",
       "      <td>2</td>\n",
       "      <td>Greenberg, Mr. Samuel</td>\n",
       "      <td>male</td>\n",
       "      <td>52.0</td>\n",
       "      <td>0</td>\n",
       "      <td>0</td>\n",
       "      <td>250647</td>\n",
       "      <td>13.0000</td>\n",
       "      <td>NaN</td>\n",
       "      <td>S</td>\n",
       "      <td>NaN</td>\n",
       "      <td>19.0</td>\n",
       "      <td>Bronx, NY</td>\n",
       "      <td>0</td>\n",
       "    </tr>\n",
       "  </tbody>\n",
       "</table>\n",
       "<p>850 rows × 15 columns</p>\n",
       "</div>"
      ],
      "text/plain": [
       "     passenger_id  pclass                                               name  \\\n",
       "0            1216       3                                 Smyth, Miss. Julia   \n",
       "1             699       3                                    Cacic, Mr. Luka   \n",
       "2            1267       3  Van Impe, Mrs. Jean Baptiste (Rosalie Paula Go...   \n",
       "3             449       2              Hocking, Mrs. Elizabeth (Eliza Needs)   \n",
       "4             576       2                                    Veal, Mr. James   \n",
       "..            ...     ...                                                ...   \n",
       "845           158       1                        Hipkins, Mr. William Edward   \n",
       "846           174       1                            Kent, Mr. Edward Austin   \n",
       "847           467       2                Kantor, Mrs. Sinai (Miriam Sternin)   \n",
       "848          1112       3                          Peacock, Miss. Treasteall   \n",
       "849           425       2                              Greenberg, Mr. Samuel   \n",
       "\n",
       "        sex   age  sibsp  parch              ticket     fare cabin embarked  \\\n",
       "0    female   NaN      0      0              335432   7.7333   NaN        Q   \n",
       "1      male  38.0      0      0              315089   8.6625   NaN        S   \n",
       "2    female  30.0      1      1              345773  24.1500   NaN        S   \n",
       "3    female  54.0      1      3               29105  23.0000   NaN        S   \n",
       "4      male  40.0      0      0               28221  13.0000   NaN        S   \n",
       "..      ...   ...    ...    ...                 ...      ...   ...      ...   \n",
       "845    male  55.0      0      0                 680  50.0000   C39        S   \n",
       "846    male  58.0      0      0               11771  29.7000   B37        C   \n",
       "847  female  24.0      1      0              244367  26.0000   NaN        S   \n",
       "848  female   3.0      1      1  SOTON/O.Q. 3101315  13.7750   NaN        S   \n",
       "849    male  52.0      0      0              250647  13.0000   NaN        S   \n",
       "\n",
       "    boat   body                 home.dest  survived  \n",
       "0     13    NaN                       NaN         1  \n",
       "1    NaN    NaN                   Croatia         0  \n",
       "2    NaN    NaN                       NaN         0  \n",
       "3      4    NaN      Cornwall / Akron, OH         1  \n",
       "4    NaN    NaN  Barre, Co Washington, VT         0  \n",
       "..   ...    ...                       ...       ...  \n",
       "845  NaN    NaN       London / Birmingham         0  \n",
       "846  NaN  258.0               Buffalo, NY         0  \n",
       "847   12    NaN        Moscow / Bronx, NY         1  \n",
       "848  NaN    NaN                       NaN         0  \n",
       "849  NaN   19.0                 Bronx, NY         0  \n",
       "\n",
       "[850 rows x 15 columns]"
      ]
     },
     "execution_count": 20,
     "metadata": {},
     "output_type": "execute_result"
    }
   ],
   "source": [
    "import pandas as pd\n",
    "#Read Titanic Training Data Set\n",
    "df = pd.read_csv('C:/Users/Kapil Wanaskar/Data Sets/titanic_train (1).csv')\n",
    "df"
   ]
  },
  {
   "cell_type": "code",
   "execution_count": 21,
   "id": "2249a5b7",
   "metadata": {},
   "outputs": [
    {
     "data": {
      "text/html": [
       "<div>\n",
       "<style scoped>\n",
       "    .dataframe tbody tr th:only-of-type {\n",
       "        vertical-align: middle;\n",
       "    }\n",
       "\n",
       "    .dataframe tbody tr th {\n",
       "        vertical-align: top;\n",
       "    }\n",
       "\n",
       "    .dataframe thead th {\n",
       "        text-align: right;\n",
       "    }\n",
       "</style>\n",
       "<table border=\"1\" class=\"dataframe\">\n",
       "  <thead>\n",
       "    <tr style=\"text-align: right;\">\n",
       "      <th></th>\n",
       "      <th>age</th>\n",
       "      <th>fare</th>\n",
       "      <th>survived</th>\n",
       "    </tr>\n",
       "  </thead>\n",
       "  <tbody>\n",
       "    <tr>\n",
       "      <th>0</th>\n",
       "      <td>NaN</td>\n",
       "      <td>7.7333</td>\n",
       "      <td>1</td>\n",
       "    </tr>\n",
       "    <tr>\n",
       "      <th>1</th>\n",
       "      <td>38.0</td>\n",
       "      <td>8.6625</td>\n",
       "      <td>0</td>\n",
       "    </tr>\n",
       "    <tr>\n",
       "      <th>2</th>\n",
       "      <td>30.0</td>\n",
       "      <td>24.1500</td>\n",
       "      <td>0</td>\n",
       "    </tr>\n",
       "    <tr>\n",
       "      <th>3</th>\n",
       "      <td>54.0</td>\n",
       "      <td>23.0000</td>\n",
       "      <td>1</td>\n",
       "    </tr>\n",
       "    <tr>\n",
       "      <th>4</th>\n",
       "      <td>40.0</td>\n",
       "      <td>13.0000</td>\n",
       "      <td>0</td>\n",
       "    </tr>\n",
       "  </tbody>\n",
       "</table>\n",
       "</div>"
      ],
      "text/plain": [
       "    age     fare  survived\n",
       "0   NaN   7.7333         1\n",
       "1  38.0   8.6625         0\n",
       "2  30.0  24.1500         0\n",
       "3  54.0  23.0000         1\n",
       "4  40.0  13.0000         0"
      ]
     },
     "execution_count": 21,
     "metadata": {},
     "output_type": "execute_result"
    }
   ],
   "source": [
    "#focusing on only 3 columns\n",
    "df = pd.read_csv('C:/Users/Kapil Wanaskar/Data Sets/titanic_train (1).csv', usecols=['age','fare','survived'])\n",
    "df.head() # reading only top 5 rows"
   ]
  },
  {
   "cell_type": "code",
   "execution_count": 22,
   "id": "2ef11803",
   "metadata": {},
   "outputs": [
    {
     "data": {
      "text/plain": [
       "age         174\n",
       "fare          1\n",
       "survived      0\n",
       "dtype: int64"
      ]
     },
     "execution_count": 22,
     "metadata": {},
     "output_type": "execute_result"
    }
   ],
   "source": [
    "df.isnull().sum() # finding NUMBER of null values in each columns"
   ]
  },
  {
   "cell_type": "code",
   "execution_count": 23,
   "id": "26e2e3e4",
   "metadata": {},
   "outputs": [
    {
     "data": {
      "text/plain": [
       "age         0.204706\n",
       "fare        0.001176\n",
       "survived    0.000000\n",
       "dtype: float64"
      ]
     },
     "execution_count": 23,
     "metadata": {},
     "output_type": "execute_result"
    }
   ],
   "source": [
    "df.isnull().mean() # finding PERCENTAGE of null values in each columns"
   ]
  },
  {
   "cell_type": "code",
   "execution_count": 24,
   "id": "cd114a6a",
   "metadata": {},
   "outputs": [
    {
     "data": {
      "text/plain": [
       "0       NaN\n",
       "1      38.0\n",
       "2      30.0\n",
       "3      54.0\n",
       "4      40.0\n",
       "       ... \n",
       "845    55.0\n",
       "846    58.0\n",
       "847    24.0\n",
       "848     3.0\n",
       "849    52.0\n",
       "Name: age, Length: 850, dtype: float64"
      ]
     },
     "execution_count": 24,
     "metadata": {},
     "output_type": "execute_result"
    }
   ],
   "source": [
    "df['age'] #reading \"age\" column"
   ]
  },
  {
   "cell_type": "code",
   "execution_count": 25,
   "id": "20757831",
   "metadata": {},
   "outputs": [
    {
     "data": {
      "text/plain": [
       "1      38.0\n",
       "2      30.0\n",
       "3      54.0\n",
       "4      40.0\n",
       "5      28.0\n",
       "       ... \n",
       "845    55.0\n",
       "846    58.0\n",
       "847    24.0\n",
       "848     3.0\n",
       "849    52.0\n",
       "Name: age, Length: 676, dtype: float64"
      ]
     },
     "execution_count": 25,
     "metadata": {},
     "output_type": "execute_result"
    }
   ],
   "source": [
    "df['age'].dropna() #Dropping Nan values in \"age\" column"
   ]
  },
  {
   "cell_type": "code",
   "execution_count": 26,
   "id": "bb9c6da6",
   "metadata": {},
   "outputs": [
    {
     "data": {
      "text/plain": [
       "174"
      ]
     },
     "execution_count": 26,
     "metadata": {},
     "output_type": "execute_result"
    }
   ],
   "source": [
    "df['age'].isnull().sum() #measuring number of NaN / Null values in 'age' column"
   ]
  },
  {
   "cell_type": "code",
   "execution_count": 27,
   "id": "0d672d6e",
   "metadata": {},
   "outputs": [
    {
     "data": {
      "text/plain": [
       "633    21.0\n",
       "Name: age, dtype: float64"
      ]
     },
     "execution_count": 27,
     "metadata": {},
     "output_type": "execute_result"
    }
   ],
   "source": [
    "df['age'].dropna().sample() #choosing random SAMPLE from the Non-Null values in the 'age' column\n",
    "#o/p is dynamic i.e - changes everytime"
   ]
  },
  {
   "cell_type": "code",
   "execution_count": 28,
   "id": "1a264df7",
   "metadata": {},
   "outputs": [
    {
     "data": {
      "text/plain": [
       "12     56.0\n",
       "317    23.0\n",
       "508    32.0\n",
       "236    30.0\n",
       "613    18.0\n",
       "       ... \n",
       "447    60.0\n",
       "275    23.0\n",
       "92     18.0\n",
       "667     8.0\n",
       "371    31.0\n",
       "Name: age, Length: 174, dtype: float64"
      ]
     },
     "execution_count": 28,
     "metadata": {},
     "output_type": "execute_result"
    }
   ],
   "source": [
    "df['age'].dropna().sample(df['age'].isnull().sum()) #intubating Random values at previous Nan places\n",
    "# but, #o/p is changing after each execution"
   ]
  },
  {
   "cell_type": "code",
   "execution_count": 29,
   "id": "34c3a8d3",
   "metadata": {},
   "outputs": [
    {
     "data": {
      "text/plain": [
       "716    27.0\n",
       "39     29.0\n",
       "446    25.0\n",
       "240     8.0\n",
       "508    32.0\n",
       "       ... \n",
       "801    47.0\n",
       "669     9.0\n",
       "768    21.0\n",
       "16     40.0\n",
       "250    48.0\n",
       "Name: age, Length: 174, dtype: float64"
      ]
     },
     "execution_count": 29,
     "metadata": {},
     "output_type": "execute_result"
    }
   ],
   "source": [
    "df['age'].dropna().sample(df['age'].isnull().sum(),random_state=0) \n",
    "#o/p is NOT changing after each execution"
   ]
  },
  {
   "cell_type": "code",
   "execution_count": 30,
   "id": "e98d0fbf",
   "metadata": {},
   "outputs": [
    {
     "data": {
      "text/html": [
       "<div>\n",
       "<style scoped>\n",
       "    .dataframe tbody tr th:only-of-type {\n",
       "        vertical-align: middle;\n",
       "    }\n",
       "\n",
       "    .dataframe tbody tr th {\n",
       "        vertical-align: top;\n",
       "    }\n",
       "\n",
       "    .dataframe thead th {\n",
       "        text-align: right;\n",
       "    }\n",
       "</style>\n",
       "<table border=\"1\" class=\"dataframe\">\n",
       "  <thead>\n",
       "    <tr style=\"text-align: right;\">\n",
       "      <th></th>\n",
       "      <th>age</th>\n",
       "      <th>fare</th>\n",
       "      <th>survived</th>\n",
       "      <th>age_median</th>\n",
       "    </tr>\n",
       "  </thead>\n",
       "  <tbody>\n",
       "    <tr>\n",
       "      <th>0</th>\n",
       "      <td>NaN</td>\n",
       "      <td>7.7333</td>\n",
       "      <td>1</td>\n",
       "      <td>28.0</td>\n",
       "    </tr>\n",
       "    <tr>\n",
       "      <th>1</th>\n",
       "      <td>38.0</td>\n",
       "      <td>8.6625</td>\n",
       "      <td>0</td>\n",
       "      <td>38.0</td>\n",
       "    </tr>\n",
       "    <tr>\n",
       "      <th>2</th>\n",
       "      <td>30.0</td>\n",
       "      <td>24.1500</td>\n",
       "      <td>0</td>\n",
       "      <td>30.0</td>\n",
       "    </tr>\n",
       "    <tr>\n",
       "      <th>3</th>\n",
       "      <td>54.0</td>\n",
       "      <td>23.0000</td>\n",
       "      <td>1</td>\n",
       "      <td>54.0</td>\n",
       "    </tr>\n",
       "    <tr>\n",
       "      <th>4</th>\n",
       "      <td>40.0</td>\n",
       "      <td>13.0000</td>\n",
       "      <td>0</td>\n",
       "      <td>40.0</td>\n",
       "    </tr>\n",
       "    <tr>\n",
       "      <th>...</th>\n",
       "      <td>...</td>\n",
       "      <td>...</td>\n",
       "      <td>...</td>\n",
       "      <td>...</td>\n",
       "    </tr>\n",
       "    <tr>\n",
       "      <th>845</th>\n",
       "      <td>55.0</td>\n",
       "      <td>50.0000</td>\n",
       "      <td>0</td>\n",
       "      <td>55.0</td>\n",
       "    </tr>\n",
       "    <tr>\n",
       "      <th>846</th>\n",
       "      <td>58.0</td>\n",
       "      <td>29.7000</td>\n",
       "      <td>0</td>\n",
       "      <td>58.0</td>\n",
       "    </tr>\n",
       "    <tr>\n",
       "      <th>847</th>\n",
       "      <td>24.0</td>\n",
       "      <td>26.0000</td>\n",
       "      <td>1</td>\n",
       "      <td>24.0</td>\n",
       "    </tr>\n",
       "    <tr>\n",
       "      <th>848</th>\n",
       "      <td>3.0</td>\n",
       "      <td>13.7750</td>\n",
       "      <td>0</td>\n",
       "      <td>3.0</td>\n",
       "    </tr>\n",
       "    <tr>\n",
       "      <th>849</th>\n",
       "      <td>52.0</td>\n",
       "      <td>13.0000</td>\n",
       "      <td>0</td>\n",
       "      <td>52.0</td>\n",
       "    </tr>\n",
       "  </tbody>\n",
       "</table>\n",
       "<p>850 rows × 4 columns</p>\n",
       "</div>"
      ],
      "text/plain": [
       "      age     fare  survived  age_median\n",
       "0     NaN   7.7333         1        28.0\n",
       "1    38.0   8.6625         0        38.0\n",
       "2    30.0  24.1500         0        30.0\n",
       "3    54.0  23.0000         1        54.0\n",
       "4    40.0  13.0000         0        40.0\n",
       "..    ...      ...       ...         ...\n",
       "845  55.0  50.0000         0        55.0\n",
       "846  58.0  29.7000         0        58.0\n",
       "847  24.0  26.0000         1        24.0\n",
       "848   3.0  13.7750         0         3.0\n",
       "849  52.0  13.0000         0        52.0\n",
       "\n",
       "[850 rows x 4 columns]"
      ]
     },
     "execution_count": 30,
     "metadata": {},
     "output_type": "execute_result"
    }
   ],
   "source": [
    "#create a function which will impute NAN values\n",
    "def impute_nan(df,variable,median):\n",
    "# df,variable,median ~ are parameters\n",
    "    df[variable+\"_median\"] = df[variable].fillna(median) # filling NAN values with Median\n",
    "    \n",
    "median = df.age.median()    \n",
    "impute_nan(df,'age',median)\n",
    "df  #displaying \"age_median\" \n",
    "#as discussed in Video 6) Mean, Median, Mode Imputation - How to handle Missing Data.ipynb"
   ]
  },
  {
   "cell_type": "code",
   "execution_count": 31,
   "id": "7d01e607",
   "metadata": {},
   "outputs": [],
   "source": [
    "def impute_nan(df,variable,median):\n",
    "    df[variable+\"_median\"] = df[variable].fillna(median)\n",
    "    df[variable+\"_random\"] = df[variable]\n",
    "#replace 'age' with 'variable' in previous command: df['age'].dropna().sample(df['age'].isnull().sum(),random_state=0) \n",
    "    random_sample = df[variable].dropna().sample(df[variable].isnull().sum(),random_state=0) \n",
    "    "
   ]
  },
  {
   "cell_type": "code",
   "execution_count": 32,
   "id": "f8a8eacd",
   "metadata": {},
   "outputs": [
    {
     "data": {
      "text/plain": [
       "Int64Index([  0,  17,  21,  28,  30,  31,  33,  38,  41,  46,\n",
       "            ...\n",
       "            763, 778, 780, 787, 794, 814, 820, 821, 828, 836],\n",
       "           dtype='int64', length=174)"
      ]
     },
     "execution_count": 32,
     "metadata": {},
     "output_type": "execute_result"
    }
   ],
   "source": [
    "df[df['age'].isnull()].index #Pick Up Index of all Nan values in Age column"
   ]
  },
  {
   "cell_type": "code",
   "execution_count": 33,
   "id": "2651aefd",
   "metadata": {},
   "outputs": [],
   "source": [
    "def impute_nan(df,variable,median):\n",
    "    df[variable+\"_median\"] = df[variable].fillna(median)\n",
    "    df[variable+\"_random\"] = df[variable]\n",
    "    random_sample = df[variable].dropna().sample(df[variable].isnull().sum(),random_state=0) \n",
    "#pandas need to have same index in order to merge the dataset\n",
    "#replace 'age' with 'variable' in previous command: df[df['age'].isnull()].index\n",
    "    random_sample.index = df[df[variable].isnull()].index #Pick Up Index of all Nan values in any Variable column"
   ]
  },
  {
   "cell_type": "code",
   "execution_count": 34,
   "id": "e407d58a",
   "metadata": {},
   "outputs": [],
   "source": [
    "def impute_nan(df,variable,median):\n",
    "    df[variable+\"_median\"] = df[variable].fillna(median)\n",
    "    df[variable+\"_random\"] = df[variable]\n",
    "    random_sample = df[variable].dropna().sample(df[variable].isnull().sum(),random_state=0)\n",
    "    random_sample.index = df[df[variable].isnull()].index\n",
    "    df.loc[df[variable].isnull(),variable+'_random'] = random_sample # Replacing NAN values with Random Sample"
   ]
  },
  {
   "cell_type": "code",
   "execution_count": 35,
   "id": "2f2e3c28",
   "metadata": {},
   "outputs": [
    {
     "data": {
      "text/plain": [
       "28.0"
      ]
     },
     "execution_count": 35,
     "metadata": {},
     "output_type": "execute_result"
    }
   ],
   "source": [
    "median = df.age.median()\n",
    "median"
   ]
  },
  {
   "cell_type": "code",
   "execution_count": 36,
   "id": "79eb2464",
   "metadata": {},
   "outputs": [
    {
     "data": {
      "text/html": [
       "<div>\n",
       "<style scoped>\n",
       "    .dataframe tbody tr th:only-of-type {\n",
       "        vertical-align: middle;\n",
       "    }\n",
       "\n",
       "    .dataframe tbody tr th {\n",
       "        vertical-align: top;\n",
       "    }\n",
       "\n",
       "    .dataframe thead th {\n",
       "        text-align: right;\n",
       "    }\n",
       "</style>\n",
       "<table border=\"1\" class=\"dataframe\">\n",
       "  <thead>\n",
       "    <tr style=\"text-align: right;\">\n",
       "      <th></th>\n",
       "      <th>age</th>\n",
       "      <th>fare</th>\n",
       "      <th>survived</th>\n",
       "      <th>age_median</th>\n",
       "      <th>age_random</th>\n",
       "    </tr>\n",
       "  </thead>\n",
       "  <tbody>\n",
       "    <tr>\n",
       "      <th>0</th>\n",
       "      <td>NaN</td>\n",
       "      <td>7.7333</td>\n",
       "      <td>1</td>\n",
       "      <td>28.0</td>\n",
       "      <td>27.0</td>\n",
       "    </tr>\n",
       "    <tr>\n",
       "      <th>1</th>\n",
       "      <td>38.0</td>\n",
       "      <td>8.6625</td>\n",
       "      <td>0</td>\n",
       "      <td>38.0</td>\n",
       "      <td>38.0</td>\n",
       "    </tr>\n",
       "    <tr>\n",
       "      <th>2</th>\n",
       "      <td>30.0</td>\n",
       "      <td>24.1500</td>\n",
       "      <td>0</td>\n",
       "      <td>30.0</td>\n",
       "      <td>30.0</td>\n",
       "    </tr>\n",
       "    <tr>\n",
       "      <th>3</th>\n",
       "      <td>54.0</td>\n",
       "      <td>23.0000</td>\n",
       "      <td>1</td>\n",
       "      <td>54.0</td>\n",
       "      <td>54.0</td>\n",
       "    </tr>\n",
       "    <tr>\n",
       "      <th>4</th>\n",
       "      <td>40.0</td>\n",
       "      <td>13.0000</td>\n",
       "      <td>0</td>\n",
       "      <td>40.0</td>\n",
       "      <td>40.0</td>\n",
       "    </tr>\n",
       "    <tr>\n",
       "      <th>...</th>\n",
       "      <td>...</td>\n",
       "      <td>...</td>\n",
       "      <td>...</td>\n",
       "      <td>...</td>\n",
       "      <td>...</td>\n",
       "    </tr>\n",
       "    <tr>\n",
       "      <th>845</th>\n",
       "      <td>55.0</td>\n",
       "      <td>50.0000</td>\n",
       "      <td>0</td>\n",
       "      <td>55.0</td>\n",
       "      <td>55.0</td>\n",
       "    </tr>\n",
       "    <tr>\n",
       "      <th>846</th>\n",
       "      <td>58.0</td>\n",
       "      <td>29.7000</td>\n",
       "      <td>0</td>\n",
       "      <td>58.0</td>\n",
       "      <td>58.0</td>\n",
       "    </tr>\n",
       "    <tr>\n",
       "      <th>847</th>\n",
       "      <td>24.0</td>\n",
       "      <td>26.0000</td>\n",
       "      <td>1</td>\n",
       "      <td>24.0</td>\n",
       "      <td>24.0</td>\n",
       "    </tr>\n",
       "    <tr>\n",
       "      <th>848</th>\n",
       "      <td>3.0</td>\n",
       "      <td>13.7750</td>\n",
       "      <td>0</td>\n",
       "      <td>3.0</td>\n",
       "      <td>3.0</td>\n",
       "    </tr>\n",
       "    <tr>\n",
       "      <th>849</th>\n",
       "      <td>52.0</td>\n",
       "      <td>13.0000</td>\n",
       "      <td>0</td>\n",
       "      <td>52.0</td>\n",
       "      <td>52.0</td>\n",
       "    </tr>\n",
       "  </tbody>\n",
       "</table>\n",
       "<p>850 rows × 5 columns</p>\n",
       "</div>"
      ],
      "text/plain": [
       "      age     fare  survived  age_median  age_random\n",
       "0     NaN   7.7333         1        28.0        27.0\n",
       "1    38.0   8.6625         0        38.0        38.0\n",
       "2    30.0  24.1500         0        30.0        30.0\n",
       "3    54.0  23.0000         1        54.0        54.0\n",
       "4    40.0  13.0000         0        40.0        40.0\n",
       "..    ...      ...       ...         ...         ...\n",
       "845  55.0  50.0000         0        55.0        55.0\n",
       "846  58.0  29.7000         0        58.0        58.0\n",
       "847  24.0  26.0000         1        24.0        24.0\n",
       "848   3.0  13.7750         0         3.0         3.0\n",
       "849  52.0  13.0000         0        52.0        52.0\n",
       "\n",
       "[850 rows x 5 columns]"
      ]
     },
     "execution_count": 36,
     "metadata": {},
     "output_type": "execute_result"
    }
   ],
   "source": [
    "impute_nan(df,'age',median)\n",
    "df #displaying both \"age_median\" and \"age_random\"\n",
    "#Ta-da - finally Magic Happens :D"
   ]
  },
  {
   "cell_type": "code",
   "execution_count": 37,
   "id": "9f8d7e85",
   "metadata": {},
   "outputs": [],
   "source": [
    "import matplotlib.pyplot as plt\n",
    "%matplotlib inline"
   ]
  },
  {
   "cell_type": "code",
   "execution_count": 44,
   "id": "00f43ae3",
   "metadata": {},
   "outputs": [
    {
     "data": {
      "text/plain": [
       "<matplotlib.legend.Legend at 0x20607333940>"
      ]
     },
     "execution_count": 44,
     "metadata": {},
     "output_type": "execute_result"
    },
    {
     "data": {
      "image/png": "[encoded data removed]",
      "text/plain": [
       "<Figure size 432x288 with 1 Axes>"
      ]
     },
     "metadata": {
      "needs_background": "light"
     },
     "output_type": "display_data"
    }
   ],
   "source": [
    "fig = plt.figure()\n",
    "ax = fig.add_subplot(111) # defining axes\n",
    "df['age'].plot(kind='kde', ax=ax) #plotted 1st, default colored, graph\n",
    "# 'age_median' is replaced with age_random\n",
    "df.age_median.plot(kind='kde', ax=ax, color = 'red') #plotted age_median, red colored, graph\n",
    "lines, labels = ax.get_legend_handles_labels()\n",
    "ax.legend(lines, labels, loc='best') #Naming / labeling the multi plots\n",
    "\n",
    "# \"age\" and \"age_median\" do NOT have similar data distribution"
   ]
  },
  {
   "cell_type": "code",
   "execution_count": 48,
   "id": "1ed56713",
   "metadata": {},
   "outputs": [
    {
     "data": {
      "text/plain": [
       "<matplotlib.legend.Legend at 0x2060755b520>"
      ]
     },
     "execution_count": 48,
     "metadata": {},
     "output_type": "execute_result"
    },
    {
     "data": {
      "image/png": "[encoded data removed]",
      "text/plain": [
       "<Figure size 432x288 with 1 Axes>"
      ]
     },
     "metadata": {
      "needs_background": "light"
     },
     "output_type": "display_data"
    }
   ],
   "source": [
    "fig = plt.figure()\n",
    "ax = fig.add_subplot(111) # defining axes\n",
    "df['age'].plot(kind='kde', ax=ax) #plotted 1st, default colored, graph\n",
    "# 'age_median' is replaced with age_random\n",
    "df.age_random.plot(kind='kde', ax=ax, color = 'green') #plotted age_random, GREEN colored, graph\n",
    "lines, labels = ax.get_legend_handles_labels()\n",
    "ax.legend(lines, labels, loc='best') #Naming / labeling the multi plots\n",
    "\n",
    "# \"age\" and \"age_random\" have almost similar data distribution"
   ]
  },
  {
   "cell_type": "code",
   "execution_count": 47,
   "id": "b7935ce4",
   "metadata": {},
   "outputs": [
    {
     "data": {
      "text/plain": [
       "<matplotlib.legend.Legend at 0x206074d5be0>"
      ]
     },
     "execution_count": 47,
     "metadata": {},
     "output_type": "execute_result"
    },
    {
     "data": {
      "image/png": "[encoded data removed]",
      "text/plain": [
       "<Figure size 432x288 with 1 Axes>"
      ]
     },
     "metadata": {
      "needs_background": "light"
     },
     "output_type": "display_data"
    }
   ],
   "source": [
    "fig = plt.figure()\n",
    "ax = fig.add_subplot(111) # defining axes\n",
    "df['age'].plot(kind='kde', ax=ax) #plotted 1st, default colored, graph\n",
    "# 'age_median' is replaced with age_random\n",
    "df.age_median.plot(kind='kde', ax=ax, color = 'red') #plotted age_median, RED colored, graph\n",
    "df.age_random.plot(kind='kde', ax=ax, color = 'green') #plotted age_random, GREEN colored, graph\n",
    "lines, labels = ax.get_legend_handles_labels()\n",
    "ax.legend(lines, labels, loc='best') #Naming / labeling the multi plots\n",
    "\n",
    "# \"age\" and \"age_random\" have almost similar data distribution"
   ]
  },
  {
   "cell_type": "markdown",
   "id": "a3290049",
   "metadata": {},
   "source": [
    "### in this situation,\n",
    "\n",
    "Technique 2) Random Sample Imputation\n",
    "\n",
    "performed better than\n",
    "\n",
    "Technique 1) Mean / Median / Mode Imputation"
   ]
  },
  {
   "cell_type": "markdown",
   "id": "7e94576d",
   "metadata": {},
   "source": [
    "### ADVANTAGE\n",
    "of Technique 2) Random Sample Imputation\n",
    "\n",
    "##### 1) Easy to Implement\n",
    "##### 2) Less distortion in variance wrt \"Technique 1) Mean / Median / Mode Imputation\""
   ]
  },
  {
   "cell_type": "markdown",
   "id": "15168dd1",
   "metadata": {},
   "source": [
    "## Disadvantage\n",
    "1) In every situation , randomness need not give good result"
   ]
  },
  {
   "cell_type": "code",
   "execution_count": null,
   "id": "d9ed2fbc",
   "metadata": {},
   "outputs": [],
   "source": []
  },
  {
   "cell_type": "code",
   "execution_count": null,
   "id": "56e3443e",
   "metadata": {},
   "outputs": [],
   "source": []
  },
  {
   "cell_type": "code",
   "execution_count": null,
   "id": "0d81b869",
   "metadata": {},
   "outputs": [],
   "source": []
  }
 ],
 "metadata": {
  "kernelspec": {
   "display_name": "Python 3 (ipykernel)",
   "language": "python",
   "name": "python3"
  },
  "language_info": {
   "codemirror_mode": {
    "name": "ipython",
    "version": 3
   },
   "file_extension": ".py",
   "mimetype": "text/x-python",
   "name": "python",
   "nbconvert_exporter": "python",
   "pygments_lexer": "ipython3",
   "version": "3.9.7"
  }
 },
 "nbformat": 4,
 "nbformat_minor": 5
}
